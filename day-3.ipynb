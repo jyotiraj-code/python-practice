{
 "cells": [
  {
   "cell_type": "code",
   "execution_count": null,
   "metadata": {},
   "outputs": [],
   "source": [
    "#Python Primers (Chapter - 1)"
   ]
  },
  {
   "cell_type": "code",
   "execution_count": null,
   "metadata": {},
   "outputs": [],
   "source": [
    "#1.1 Python Overview\n"
   ]
  },
  {
   "cell_type": "code",
   "execution_count": 10,
   "metadata": {},
   "outputs": [
    {
     "name": "stdout",
     "output_type": "stream",
     "text": [
      "<class 'float'>\n",
      "the command temperature = 98.6 results in the creation of a new instance of the float class; the term 98.6 in that expression is a literal form\n",
      "False\n",
      "3\n",
      "3.0\n",
      "3\n",
      "3\n",
      "3\n",
      "three\n"
     ]
    }
   ],
   "source": [
    "#1.2 Objects in Python\n",
    "\n",
    "#1.2.1 Identifiers, Objects, and the Assignment Statement\n",
    "temperature = 98.6\n",
    "print(type(temperature))\n",
    "\n",
    "#1.2.2 Creating Objects and using Methods\n",
    "print('the command temperature = 98.6 results in the creation of a new instance of the float class; the term 98.6 in that expression is a literal form')\n",
    "\n",
    "#1.2.3 Python built in classes\n",
    "print(bool(1>2))\n",
    "print(int(3.99))\n",
    "print(float(3))\n",
    "list = ['1','2','3']\n",
    "print(list[2])\n",
    "tuple = ('1','2','3')\n",
    "print(tuple[2])\n",
    "str = '123'\n",
    "print(str[2])\n",
    "dict = {'1':'one','2':'two','3':'three'}\n",
    "print(dict['3'])"
   ]
  },
  {
   "cell_type": "code",
   "execution_count": null,
   "metadata": {},
   "outputs": [],
   "source": [
    "#1.3 Expressions, Operators and Precedence\n",
    "        \n"
   ]
  },
  {
   "cell_type": "code",
   "execution_count": null,
   "metadata": {},
   "outputs": [],
   "source": [
    "#1.4 Control Flow\n",
    "#1.4.1 Conditionals\n",
    "#1.4.2 Loops"
   ]
  },
  {
   "cell_type": "code",
   "execution_count": 19,
   "metadata": {},
   "outputs": [
    {
     "name": "stdout",
     "output_type": "stream",
     "text": [
      "1\n"
     ]
    }
   ],
   "source": [
    "#1.5 Functions\n",
    "\n",
    "def count(data, target):\n",
    "    n = 0\n",
    "    for item in data:\n",
    "        if item == target:\n",
    "            n += 1\n",
    "    return n\n",
    "\n",
    "data = [1,2,3,4,5,6,7,8,9,10]\n",
    "target = 5\n",
    "result = count(data, target)\n",
    "print(result)"
   ]
  },
  {
   "cell_type": "code",
   "execution_count": 23,
   "metadata": {},
   "outputs": [
    {
     "name": "stdout",
     "output_type": "stream",
     "text": [
      "0.01257719251908589\n"
     ]
    }
   ],
   "source": [
    "world = 7950900000\n",
    "hacker = 1000000\n",
    "percent = (hacker/world)*100\n",
    "print(percent)"
   ]
  },
  {
   "cell_type": "code",
   "execution_count": null,
   "metadata": {},
   "outputs": [],
   "source": [
    "#1.12 Excercises"
   ]
  },
  {
   "cell_type": "code",
   "execution_count": 38,
   "metadata": {},
   "outputs": [
    {
     "name": "stdout",
     "output_type": "stream",
     "text": [
      "True\n"
     ]
    }
   ],
   "source": [
    "#Question - 1: \n",
    "\"\"\"Write a short Python function, is multiple(n, m), that takes two integer\n",
    "values and returns True if n is a multiple of m, that is, n = mi for some\n",
    "integer i, and False otherwise.\n",
    "\"\"\"\n",
    "\n",
    "def is_multiple(n, m):\n",
    "    if n % m == 0:\n",
    "        return True\n",
    "    else:\n",
    "        return False\n",
    "    \n",
    "print(is_multiple(10, 2))"
   ]
  },
  {
   "cell_type": "code",
   "execution_count": 41,
   "metadata": {},
   "outputs": [
    {
     "name": "stdout",
     "output_type": "stream",
     "text": [
      "True\n"
     ]
    }
   ],
   "source": [
    "#Question - 2:\n",
    "\"\"\"Write a short Python function, is even(k), that takes an integer value and\n",
    "returns True if k is even, and False otherwise. However, your function\n",
    "cannot use the multiplication, modulo, or division operators\n",
    "\"\"\"\n",
    "\n",
    "def is_even(k):\n",
    "    if k & 1 == 0:\n",
    "        return True\n",
    "    else:\n",
    "        return False\n",
    "    \n",
    "print(is_even(10))"
   ]
  },
  {
   "cell_type": "code",
   "execution_count": 42,
   "metadata": {},
   "outputs": [
    {
     "name": "stdout",
     "output_type": "stream",
     "text": [
      "30\n"
     ]
    }
   ],
   "source": [
    "#Question 3:\n",
    "\"\"\"Write a short Python function that takes a positive integer n and returns\n",
    "the sum of the squares of all the positive integers smaller than n.\"\"\"\n",
    "\n",
    "\n",
    "def sum_of_squares(n):\n",
    "    sum = 0\n",
    "    for i in range(1,n):\n",
    "        sum += i**2\n",
    "    return sum\n",
    "\n",
    "print(sum_of_squares(5))"
   ]
  },
  {
   "cell_type": "code",
   "execution_count": 43,
   "metadata": {},
   "outputs": [
    {
     "name": "stdout",
     "output_type": "stream",
     "text": [
      "10\n"
     ]
    }
   ],
   "source": [
    "#Question 6:\n",
    "\"\"\"Write a short Python function that takes a positive integer n and returns\n",
    "the sum of the squares of all the odd positive integers smaller than n.\"\"\"\n",
    "\n",
    "def sum_of_odd_squares(n):\n",
    "    sum = 0\n",
    "    for i in range(1,n):\n",
    "        if i & 1 == 1:\n",
    "            sum += i**2\n",
    "    return sum\n",
    "\n",
    "print(sum_of_odd_squares(5))"
   ]
  },
  {
   "cell_type": "code",
   "execution_count": 44,
   "metadata": {},
   "outputs": [
    {
     "name": "stdout",
     "output_type": "stream",
     "text": [
      "4\n"
     ]
    }
   ],
   "source": [
    "#Question 8: \n",
    "\"\"\"Python allows negative integers to be used as indices into a sequence,\n",
    "such as a string. If string s has length n, and expression s[k] is used for in-\n",
    "dex −n ≤ k < 0, what is the equivalent index j ≥ 0 such that s[j] references\n",
    "the same element?\"\"\"\n",
    "\n",
    "def negative_index(s, k):\n",
    "    n = len(s)\n",
    "    j = n + k\n",
    "    return j\n",
    "\n",
    "print(negative_index('hello', -1))"
   ]
  },
  {
   "cell_type": "code",
   "execution_count": 45,
   "metadata": {},
   "outputs": [
    {
     "name": "stdout",
     "output_type": "stream",
     "text": [
      "8\n",
      "6\n",
      "4\n",
      "2\n",
      "0\n",
      "-2\n",
      "-4\n",
      "-6\n",
      "-8\n"
     ]
    }
   ],
   "source": [
    "#Question 10:\n",
    "\"\"\"What parameters should be sent to the range constructor, to produce a\n",
    "range with values 8, 6, 4, 2, 0, −2, −4, −6, −8?\"\"\"\n",
    "\n",
    "def range_constructor():\n",
    "    for i in range(8,-10,-2):\n",
    "        print(i)\n",
    "\n",
    "range_constructor()"
   ]
  }
 ],
 "metadata": {
  "kernelspec": {
   "display_name": "Python 3",
   "language": "python",
   "name": "python3"
  },
  "language_info": {
   "codemirror_mode": {
    "name": "ipython",
    "version": 3
   },
   "file_extension": ".py",
   "mimetype": "text/x-python",
   "name": "python",
   "nbconvert_exporter": "python",
   "pygments_lexer": "ipython3",
   "version": "3.11.1"
  }
 },
 "nbformat": 4,
 "nbformat_minor": 2
}
